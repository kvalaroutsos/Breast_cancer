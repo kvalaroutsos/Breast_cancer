{
 "cells": [
  {
   "cell_type": "code",
   "execution_count": 1,
   "id": "20399b07",
   "metadata": {},
   "outputs": [],
   "source": [
    "#Importing The data\n",
    "from sklearn.datasets import load_breast_cancer"
   ]
  },
  {
   "cell_type": "code",
   "execution_count": 2,
   "id": "b33629df",
   "metadata": {},
   "outputs": [],
   "source": [
    "#Import basic Libraries\n",
    "import pandas as pd\n",
    "import numpy as np\n",
    "import matplotlib.pyplot as plt\n",
    "import seaborn as sns\n",
    "import warnings\n",
    "warnings.filterwarnings(\"ignore\")"
   ]
  },
  {
   "cell_type": "code",
   "execution_count": 31,
   "id": "dc06c976",
   "metadata": {},
   "outputs": [
    {
     "data": {
      "text/plain": [
       "array(['malignant', 'benign'], dtype='<U9')"
      ]
     },
     "execution_count": 31,
     "metadata": {},
     "output_type": "execute_result"
    }
   ],
   "source": [
    "cancer.target_names"
   ]
  },
  {
   "cell_type": "code",
   "execution_count": 3,
   "id": "740c0da9",
   "metadata": {},
   "outputs": [],
   "source": [
    "cancer=load_breast_cancer()"
   ]
  },
  {
   "cell_type": "code",
   "execution_count": 4,
   "id": "cd583001",
   "metadata": {},
   "outputs": [
    {
     "data": {
      "text/plain": [
       "dict_keys(['data', 'target', 'frame', 'target_names', 'DESCR', 'feature_names', 'filename'])"
      ]
     },
     "execution_count": 4,
     "metadata": {},
     "output_type": "execute_result"
    }
   ],
   "source": [
    "cancer.keys()"
   ]
  },
  {
   "cell_type": "code",
   "execution_count": 5,
   "id": "fc55d8ca",
   "metadata": {},
   "outputs": [
    {
     "data": {
      "text/html": [
       "<div>\n",
       "<style scoped>\n",
       "    .dataframe tbody tr th:only-of-type {\n",
       "        vertical-align: middle;\n",
       "    }\n",
       "\n",
       "    .dataframe tbody tr th {\n",
       "        vertical-align: top;\n",
       "    }\n",
       "\n",
       "    .dataframe thead th {\n",
       "        text-align: right;\n",
       "    }\n",
       "</style>\n",
       "<table border=\"1\" class=\"dataframe\">\n",
       "  <thead>\n",
       "    <tr style=\"text-align: right;\">\n",
       "      <th></th>\n",
       "      <th>mean radius</th>\n",
       "      <th>mean texture</th>\n",
       "      <th>mean perimeter</th>\n",
       "      <th>mean area</th>\n",
       "      <th>mean smoothness</th>\n",
       "      <th>mean compactness</th>\n",
       "      <th>mean concavity</th>\n",
       "      <th>mean concave points</th>\n",
       "      <th>mean symmetry</th>\n",
       "      <th>mean fractal dimension</th>\n",
       "      <th>...</th>\n",
       "      <th>worst radius</th>\n",
       "      <th>worst texture</th>\n",
       "      <th>worst perimeter</th>\n",
       "      <th>worst area</th>\n",
       "      <th>worst smoothness</th>\n",
       "      <th>worst compactness</th>\n",
       "      <th>worst concavity</th>\n",
       "      <th>worst concave points</th>\n",
       "      <th>worst symmetry</th>\n",
       "      <th>worst fractal dimension</th>\n",
       "    </tr>\n",
       "  </thead>\n",
       "  <tbody>\n",
       "    <tr>\n",
       "      <th>0</th>\n",
       "      <td>17.99</td>\n",
       "      <td>10.38</td>\n",
       "      <td>122.80</td>\n",
       "      <td>1001.0</td>\n",
       "      <td>0.11840</td>\n",
       "      <td>0.27760</td>\n",
       "      <td>0.30010</td>\n",
       "      <td>0.14710</td>\n",
       "      <td>0.2419</td>\n",
       "      <td>0.07871</td>\n",
       "      <td>...</td>\n",
       "      <td>25.380</td>\n",
       "      <td>17.33</td>\n",
       "      <td>184.60</td>\n",
       "      <td>2019.0</td>\n",
       "      <td>0.16220</td>\n",
       "      <td>0.66560</td>\n",
       "      <td>0.7119</td>\n",
       "      <td>0.2654</td>\n",
       "      <td>0.4601</td>\n",
       "      <td>0.11890</td>\n",
       "    </tr>\n",
       "    <tr>\n",
       "      <th>1</th>\n",
       "      <td>20.57</td>\n",
       "      <td>17.77</td>\n",
       "      <td>132.90</td>\n",
       "      <td>1326.0</td>\n",
       "      <td>0.08474</td>\n",
       "      <td>0.07864</td>\n",
       "      <td>0.08690</td>\n",
       "      <td>0.07017</td>\n",
       "      <td>0.1812</td>\n",
       "      <td>0.05667</td>\n",
       "      <td>...</td>\n",
       "      <td>24.990</td>\n",
       "      <td>23.41</td>\n",
       "      <td>158.80</td>\n",
       "      <td>1956.0</td>\n",
       "      <td>0.12380</td>\n",
       "      <td>0.18660</td>\n",
       "      <td>0.2416</td>\n",
       "      <td>0.1860</td>\n",
       "      <td>0.2750</td>\n",
       "      <td>0.08902</td>\n",
       "    </tr>\n",
       "    <tr>\n",
       "      <th>2</th>\n",
       "      <td>19.69</td>\n",
       "      <td>21.25</td>\n",
       "      <td>130.00</td>\n",
       "      <td>1203.0</td>\n",
       "      <td>0.10960</td>\n",
       "      <td>0.15990</td>\n",
       "      <td>0.19740</td>\n",
       "      <td>0.12790</td>\n",
       "      <td>0.2069</td>\n",
       "      <td>0.05999</td>\n",
       "      <td>...</td>\n",
       "      <td>23.570</td>\n",
       "      <td>25.53</td>\n",
       "      <td>152.50</td>\n",
       "      <td>1709.0</td>\n",
       "      <td>0.14440</td>\n",
       "      <td>0.42450</td>\n",
       "      <td>0.4504</td>\n",
       "      <td>0.2430</td>\n",
       "      <td>0.3613</td>\n",
       "      <td>0.08758</td>\n",
       "    </tr>\n",
       "    <tr>\n",
       "      <th>3</th>\n",
       "      <td>11.42</td>\n",
       "      <td>20.38</td>\n",
       "      <td>77.58</td>\n",
       "      <td>386.1</td>\n",
       "      <td>0.14250</td>\n",
       "      <td>0.28390</td>\n",
       "      <td>0.24140</td>\n",
       "      <td>0.10520</td>\n",
       "      <td>0.2597</td>\n",
       "      <td>0.09744</td>\n",
       "      <td>...</td>\n",
       "      <td>14.910</td>\n",
       "      <td>26.50</td>\n",
       "      <td>98.87</td>\n",
       "      <td>567.7</td>\n",
       "      <td>0.20980</td>\n",
       "      <td>0.86630</td>\n",
       "      <td>0.6869</td>\n",
       "      <td>0.2575</td>\n",
       "      <td>0.6638</td>\n",
       "      <td>0.17300</td>\n",
       "    </tr>\n",
       "    <tr>\n",
       "      <th>4</th>\n",
       "      <td>20.29</td>\n",
       "      <td>14.34</td>\n",
       "      <td>135.10</td>\n",
       "      <td>1297.0</td>\n",
       "      <td>0.10030</td>\n",
       "      <td>0.13280</td>\n",
       "      <td>0.19800</td>\n",
       "      <td>0.10430</td>\n",
       "      <td>0.1809</td>\n",
       "      <td>0.05883</td>\n",
       "      <td>...</td>\n",
       "      <td>22.540</td>\n",
       "      <td>16.67</td>\n",
       "      <td>152.20</td>\n",
       "      <td>1575.0</td>\n",
       "      <td>0.13740</td>\n",
       "      <td>0.20500</td>\n",
       "      <td>0.4000</td>\n",
       "      <td>0.1625</td>\n",
       "      <td>0.2364</td>\n",
       "      <td>0.07678</td>\n",
       "    </tr>\n",
       "    <tr>\n",
       "      <th>...</th>\n",
       "      <td>...</td>\n",
       "      <td>...</td>\n",
       "      <td>...</td>\n",
       "      <td>...</td>\n",
       "      <td>...</td>\n",
       "      <td>...</td>\n",
       "      <td>...</td>\n",
       "      <td>...</td>\n",
       "      <td>...</td>\n",
       "      <td>...</td>\n",
       "      <td>...</td>\n",
       "      <td>...</td>\n",
       "      <td>...</td>\n",
       "      <td>...</td>\n",
       "      <td>...</td>\n",
       "      <td>...</td>\n",
       "      <td>...</td>\n",
       "      <td>...</td>\n",
       "      <td>...</td>\n",
       "      <td>...</td>\n",
       "      <td>...</td>\n",
       "    </tr>\n",
       "    <tr>\n",
       "      <th>564</th>\n",
       "      <td>21.56</td>\n",
       "      <td>22.39</td>\n",
       "      <td>142.00</td>\n",
       "      <td>1479.0</td>\n",
       "      <td>0.11100</td>\n",
       "      <td>0.11590</td>\n",
       "      <td>0.24390</td>\n",
       "      <td>0.13890</td>\n",
       "      <td>0.1726</td>\n",
       "      <td>0.05623</td>\n",
       "      <td>...</td>\n",
       "      <td>25.450</td>\n",
       "      <td>26.40</td>\n",
       "      <td>166.10</td>\n",
       "      <td>2027.0</td>\n",
       "      <td>0.14100</td>\n",
       "      <td>0.21130</td>\n",
       "      <td>0.4107</td>\n",
       "      <td>0.2216</td>\n",
       "      <td>0.2060</td>\n",
       "      <td>0.07115</td>\n",
       "    </tr>\n",
       "    <tr>\n",
       "      <th>565</th>\n",
       "      <td>20.13</td>\n",
       "      <td>28.25</td>\n",
       "      <td>131.20</td>\n",
       "      <td>1261.0</td>\n",
       "      <td>0.09780</td>\n",
       "      <td>0.10340</td>\n",
       "      <td>0.14400</td>\n",
       "      <td>0.09791</td>\n",
       "      <td>0.1752</td>\n",
       "      <td>0.05533</td>\n",
       "      <td>...</td>\n",
       "      <td>23.690</td>\n",
       "      <td>38.25</td>\n",
       "      <td>155.00</td>\n",
       "      <td>1731.0</td>\n",
       "      <td>0.11660</td>\n",
       "      <td>0.19220</td>\n",
       "      <td>0.3215</td>\n",
       "      <td>0.1628</td>\n",
       "      <td>0.2572</td>\n",
       "      <td>0.06637</td>\n",
       "    </tr>\n",
       "    <tr>\n",
       "      <th>566</th>\n",
       "      <td>16.60</td>\n",
       "      <td>28.08</td>\n",
       "      <td>108.30</td>\n",
       "      <td>858.1</td>\n",
       "      <td>0.08455</td>\n",
       "      <td>0.10230</td>\n",
       "      <td>0.09251</td>\n",
       "      <td>0.05302</td>\n",
       "      <td>0.1590</td>\n",
       "      <td>0.05648</td>\n",
       "      <td>...</td>\n",
       "      <td>18.980</td>\n",
       "      <td>34.12</td>\n",
       "      <td>126.70</td>\n",
       "      <td>1124.0</td>\n",
       "      <td>0.11390</td>\n",
       "      <td>0.30940</td>\n",
       "      <td>0.3403</td>\n",
       "      <td>0.1418</td>\n",
       "      <td>0.2218</td>\n",
       "      <td>0.07820</td>\n",
       "    </tr>\n",
       "    <tr>\n",
       "      <th>567</th>\n",
       "      <td>20.60</td>\n",
       "      <td>29.33</td>\n",
       "      <td>140.10</td>\n",
       "      <td>1265.0</td>\n",
       "      <td>0.11780</td>\n",
       "      <td>0.27700</td>\n",
       "      <td>0.35140</td>\n",
       "      <td>0.15200</td>\n",
       "      <td>0.2397</td>\n",
       "      <td>0.07016</td>\n",
       "      <td>...</td>\n",
       "      <td>25.740</td>\n",
       "      <td>39.42</td>\n",
       "      <td>184.60</td>\n",
       "      <td>1821.0</td>\n",
       "      <td>0.16500</td>\n",
       "      <td>0.86810</td>\n",
       "      <td>0.9387</td>\n",
       "      <td>0.2650</td>\n",
       "      <td>0.4087</td>\n",
       "      <td>0.12400</td>\n",
       "    </tr>\n",
       "    <tr>\n",
       "      <th>568</th>\n",
       "      <td>7.76</td>\n",
       "      <td>24.54</td>\n",
       "      <td>47.92</td>\n",
       "      <td>181.0</td>\n",
       "      <td>0.05263</td>\n",
       "      <td>0.04362</td>\n",
       "      <td>0.00000</td>\n",
       "      <td>0.00000</td>\n",
       "      <td>0.1587</td>\n",
       "      <td>0.05884</td>\n",
       "      <td>...</td>\n",
       "      <td>9.456</td>\n",
       "      <td>30.37</td>\n",
       "      <td>59.16</td>\n",
       "      <td>268.6</td>\n",
       "      <td>0.08996</td>\n",
       "      <td>0.06444</td>\n",
       "      <td>0.0000</td>\n",
       "      <td>0.0000</td>\n",
       "      <td>0.2871</td>\n",
       "      <td>0.07039</td>\n",
       "    </tr>\n",
       "  </tbody>\n",
       "</table>\n",
       "<p>569 rows × 30 columns</p>\n",
       "</div>"
      ],
      "text/plain": [
       "     mean radius  mean texture  mean perimeter  mean area  mean smoothness  \\\n",
       "0          17.99         10.38          122.80     1001.0          0.11840   \n",
       "1          20.57         17.77          132.90     1326.0          0.08474   \n",
       "2          19.69         21.25          130.00     1203.0          0.10960   \n",
       "3          11.42         20.38           77.58      386.1          0.14250   \n",
       "4          20.29         14.34          135.10     1297.0          0.10030   \n",
       "..           ...           ...             ...        ...              ...   \n",
       "564        21.56         22.39          142.00     1479.0          0.11100   \n",
       "565        20.13         28.25          131.20     1261.0          0.09780   \n",
       "566        16.60         28.08          108.30      858.1          0.08455   \n",
       "567        20.60         29.33          140.10     1265.0          0.11780   \n",
       "568         7.76         24.54           47.92      181.0          0.05263   \n",
       "\n",
       "     mean compactness  mean concavity  mean concave points  mean symmetry  \\\n",
       "0             0.27760         0.30010              0.14710         0.2419   \n",
       "1             0.07864         0.08690              0.07017         0.1812   \n",
       "2             0.15990         0.19740              0.12790         0.2069   \n",
       "3             0.28390         0.24140              0.10520         0.2597   \n",
       "4             0.13280         0.19800              0.10430         0.1809   \n",
       "..                ...             ...                  ...            ...   \n",
       "564           0.11590         0.24390              0.13890         0.1726   \n",
       "565           0.10340         0.14400              0.09791         0.1752   \n",
       "566           0.10230         0.09251              0.05302         0.1590   \n",
       "567           0.27700         0.35140              0.15200         0.2397   \n",
       "568           0.04362         0.00000              0.00000         0.1587   \n",
       "\n",
       "     mean fractal dimension  ...  worst radius  worst texture  \\\n",
       "0                   0.07871  ...        25.380          17.33   \n",
       "1                   0.05667  ...        24.990          23.41   \n",
       "2                   0.05999  ...        23.570          25.53   \n",
       "3                   0.09744  ...        14.910          26.50   \n",
       "4                   0.05883  ...        22.540          16.67   \n",
       "..                      ...  ...           ...            ...   \n",
       "564                 0.05623  ...        25.450          26.40   \n",
       "565                 0.05533  ...        23.690          38.25   \n",
       "566                 0.05648  ...        18.980          34.12   \n",
       "567                 0.07016  ...        25.740          39.42   \n",
       "568                 0.05884  ...         9.456          30.37   \n",
       "\n",
       "     worst perimeter  worst area  worst smoothness  worst compactness  \\\n",
       "0             184.60      2019.0           0.16220            0.66560   \n",
       "1             158.80      1956.0           0.12380            0.18660   \n",
       "2             152.50      1709.0           0.14440            0.42450   \n",
       "3              98.87       567.7           0.20980            0.86630   \n",
       "4             152.20      1575.0           0.13740            0.20500   \n",
       "..               ...         ...               ...                ...   \n",
       "564           166.10      2027.0           0.14100            0.21130   \n",
       "565           155.00      1731.0           0.11660            0.19220   \n",
       "566           126.70      1124.0           0.11390            0.30940   \n",
       "567           184.60      1821.0           0.16500            0.86810   \n",
       "568            59.16       268.6           0.08996            0.06444   \n",
       "\n",
       "     worst concavity  worst concave points  worst symmetry  \\\n",
       "0             0.7119                0.2654          0.4601   \n",
       "1             0.2416                0.1860          0.2750   \n",
       "2             0.4504                0.2430          0.3613   \n",
       "3             0.6869                0.2575          0.6638   \n",
       "4             0.4000                0.1625          0.2364   \n",
       "..               ...                   ...             ...   \n",
       "564           0.4107                0.2216          0.2060   \n",
       "565           0.3215                0.1628          0.2572   \n",
       "566           0.3403                0.1418          0.2218   \n",
       "567           0.9387                0.2650          0.4087   \n",
       "568           0.0000                0.0000          0.2871   \n",
       "\n",
       "     worst fractal dimension  \n",
       "0                    0.11890  \n",
       "1                    0.08902  \n",
       "2                    0.08758  \n",
       "3                    0.17300  \n",
       "4                    0.07678  \n",
       "..                       ...  \n",
       "564                  0.07115  \n",
       "565                  0.06637  \n",
       "566                  0.07820  \n",
       "567                  0.12400  \n",
       "568                  0.07039  \n",
       "\n",
       "[569 rows x 30 columns]"
      ]
     },
     "execution_count": 5,
     "metadata": {},
     "output_type": "execute_result"
    }
   ],
   "source": [
    "df1=pd.DataFrame(cancer['data'],columns=cancer['feature_names'])\n",
    "df1"
   ]
  },
  {
   "cell_type": "code",
   "execution_count": 6,
   "id": "0850873b",
   "metadata": {},
   "outputs": [
    {
     "data": {
      "text/plain": [
       "(569, 30)"
      ]
     },
     "execution_count": 6,
     "metadata": {},
     "output_type": "execute_result"
    }
   ],
   "source": [
    "df1.shape"
   ]
  },
  {
   "cell_type": "markdown",
   "id": "05dc3226",
   "metadata": {},
   "source": [
    "## Formatting the target values from the general dataset"
   ]
  },
  {
   "cell_type": "code",
   "execution_count": 7,
   "id": "0ff3f4b1",
   "metadata": {},
   "outputs": [],
   "source": [
    "y=pd.DataFrame(cancer['target'],columns=['Cancer']).values"
   ]
  },
  {
   "cell_type": "code",
   "execution_count": 9,
   "id": "137344fb",
   "metadata": {},
   "outputs": [],
   "source": [
    "#Renaming basic geature dataset\n",
    "X=df1\n"
   ]
  },
  {
   "cell_type": "markdown",
   "id": "b30f13d2",
   "metadata": {},
   "source": [
    "\n",
    "## Splitting the data in order to obtain dataset for testing"
   ]
  },
  {
   "cell_type": "code",
   "execution_count": 10,
   "id": "11ffdd29",
   "metadata": {},
   "outputs": [],
   "source": [
    "from sklearn.model_selection import train_test_split"
   ]
  },
  {
   "cell_type": "code",
   "execution_count": 11,
   "id": "0975086f",
   "metadata": {},
   "outputs": [],
   "source": [
    "X_train,X_test,y_train,y_test=train_test_split(X,y,test_size=0.25)"
   ]
  },
  {
   "cell_type": "markdown",
   "id": "caf79cf5",
   "metadata": {},
   "source": [
    "## After datasest split we apply data preprocessing methods in order not to reveal data for test dataset in our training data."
   ]
  },
  {
   "cell_type": "code",
   "execution_count": 12,
   "id": "1008ee0f",
   "metadata": {},
   "outputs": [],
   "source": [
    "from sklearn.preprocessing import MinMaxScaler\n",
    "scaler=MinMaxScaler()"
   ]
  },
  {
   "cell_type": "code",
   "execution_count": 13,
   "id": "79c075e8",
   "metadata": {},
   "outputs": [],
   "source": [
    "X_train=scaler.fit_transform(X_train)"
   ]
  },
  {
   "cell_type": "code",
   "execution_count": 14,
   "id": "696bc416",
   "metadata": {},
   "outputs": [
    {
     "data": {
      "text/plain": [
       "array([[0.17527793, 0.10990869, 0.1795419 , ..., 0.45401309, 0.35048295,\n",
       "        0.24340811],\n",
       "       [0.04799451, 0.1602976 , 0.04623702, ..., 0.        , 0.20244431,\n",
       "        0.15374524],\n",
       "       [0.24286204, 0.28610078, 0.24733248, ..., 0.48467103, 0.32820816,\n",
       "        0.31654204],\n",
       "       ...,\n",
       "       [0.76394535, 0.57355428, 0.78944373, ..., 0.94143989, 0.32190026,\n",
       "        0.2136954 ],\n",
       "       [0.12287575, 0.26276632, 0.12185233, ..., 0.12301068, 0.25684999,\n",
       "        0.1511872 ],\n",
       "       [0.34619717, 0.17010484, 0.33397354, ..., 0.43093352, 0.3043564 ,\n",
       "        0.17598059]])"
      ]
     },
     "execution_count": 14,
     "metadata": {},
     "output_type": "execute_result"
    }
   ],
   "source": [
    "X_test=scaler.transform(X_test)\n",
    "X_test"
   ]
  },
  {
   "cell_type": "markdown",
   "id": "ee491576",
   "metadata": {},
   "source": [
    "## Now it is time to insert the tools for contruction our Artificial Neural Network"
   ]
  },
  {
   "cell_type": "code",
   "execution_count": 15,
   "id": "1bd84d2a",
   "metadata": {},
   "outputs": [],
   "source": [
    "from tensorflow.keras.models import Sequential\n",
    "from tensorflow.keras.layers import Dense, Dropout"
   ]
  },
  {
   "cell_type": "code",
   "execution_count": 16,
   "id": "10f4073f",
   "metadata": {},
   "outputs": [],
   "source": [
    "# Eartly stopping is used in order to stop epochs that will drive to overfitting\n",
    "from tensorflow.keras.callbacks import EarlyStopping"
   ]
  },
  {
   "cell_type": "code",
   "execution_count": 19,
   "id": "c85c8643",
   "metadata": {},
   "outputs": [],
   "source": [
    "# I started with a 30neuron first layer as the number of existing features in X dataset, followed by a Dropout layers\n",
    "# which randomly sut down 40% of the neurons in order to prevend situatons of overfitting, also there are another two hiden layers\n",
    "# with 15 and 8 neurons each one( this is a good practice to reduce neurons of the following layer in the half).\n",
    "# Finally the output layers has 1 neuron which provide the binary output 0 or 1. Optimizetr is set to adam because it has very good performance\n",
    "# loss had been set to binary_crossentropy because we have a binary classification problem.\n"
   ]
  },
  {
   "cell_type": "code",
   "execution_count": 20,
   "id": "6d8e2650",
   "metadata": {},
   "outputs": [],
   "source": [
    "model=Sequential()\n",
    "\n",
    "model.add(Dense(30,activation='relu'))\n",
    "model.add(Dropout(0.4))\n",
    "\n",
    "model.add(Dense(15,activation='relu'))\n",
    "model.add(Dropout(0.4))\n",
    "\n",
    "model.add(Dense(8,activation='relu'))\n",
    "model.add(Dropout(0.4))\n",
    "\n",
    "model.add(Dense(1, activation='sigmoid'))\n",
    "\n",
    "model.compile(optimizer='adam',loss='binary_crossentropy')"
   ]
  },
  {
   "cell_type": "code",
   "execution_count": 21,
   "id": "9202d68f",
   "metadata": {},
   "outputs": [],
   "source": [
    "early_stop=EarlyStopping(monitor='val_loss',mode='min',verbose=1,patience=25)"
   ]
  },
  {
   "cell_type": "code",
   "execution_count": 22,
   "id": "fc6d0d3f",
   "metadata": {},
   "outputs": [
    {
     "name": "stdout",
     "output_type": "stream",
     "text": [
      "Epoch 1/250\n",
      "14/14 [==============================] - 1s 31ms/step - loss: 0.7029 - val_loss: 0.6869\n",
      "Epoch 2/250\n",
      "14/14 [==============================] - 0s 11ms/step - loss: 0.6819 - val_loss: 0.6803\n",
      "Epoch 3/250\n",
      "14/14 [==============================] - 0s 14ms/step - loss: 0.6751 - val_loss: 0.6745\n",
      "Epoch 4/250\n",
      "14/14 [==============================] - 0s 14ms/step - loss: 0.6632 - val_loss: 0.6654\n",
      "Epoch 5/250\n",
      "14/14 [==============================] - 0s 13ms/step - loss: 0.6582 - val_loss: 0.6509\n",
      "Epoch 6/250\n",
      "14/14 [==============================] - 0s 11ms/step - loss: 0.6464 - val_loss: 0.6280\n",
      "Epoch 7/250\n",
      "14/14 [==============================] - 0s 8ms/step - loss: 0.6222 - val_loss: 0.6031\n",
      "Epoch 8/250\n",
      "14/14 [==============================] - 0s 8ms/step - loss: 0.6172 - val_loss: 0.5804\n",
      "Epoch 9/250\n",
      "14/14 [==============================] - 0s 9ms/step - loss: 0.6037 - val_loss: 0.5628\n",
      "Epoch 10/250\n",
      "14/14 [==============================] - 0s 10ms/step - loss: 0.5922 - val_loss: 0.5425\n",
      "Epoch 11/250\n",
      "14/14 [==============================] - 0s 13ms/step - loss: 0.5738 - val_loss: 0.5129\n",
      "Epoch 12/250\n",
      "14/14 [==============================] - 0s 14ms/step - loss: 0.5592 - val_loss: 0.4989\n",
      "Epoch 13/250\n",
      "14/14 [==============================] - 0s 8ms/step - loss: 0.5374 - val_loss: 0.4677\n",
      "Epoch 14/250\n",
      "14/14 [==============================] - 0s 12ms/step - loss: 0.5163 - val_loss: 0.4308\n",
      "Epoch 15/250\n",
      "14/14 [==============================] - 0s 4ms/step - loss: 0.4958 - val_loss: 0.4036\n",
      "Epoch 16/250\n",
      "14/14 [==============================] - 0s 4ms/step - loss: 0.4886 - val_loss: 0.3848\n",
      "Epoch 17/250\n",
      "14/14 [==============================] - 0s 4ms/step - loss: 0.4281 - val_loss: 0.3553\n",
      "Epoch 18/250\n",
      "14/14 [==============================] - 0s 3ms/step - loss: 0.4295 - val_loss: 0.3564\n",
      "Epoch 19/250\n",
      "14/14 [==============================] - 0s 3ms/step - loss: 0.4230 - val_loss: 0.3270\n",
      "Epoch 20/250\n",
      "14/14 [==============================] - 0s 3ms/step - loss: 0.4435 - val_loss: 0.3307\n",
      "Epoch 21/250\n",
      "14/14 [==============================] - 0s 4ms/step - loss: 0.3933 - val_loss: 0.3074\n",
      "Epoch 22/250\n",
      "14/14 [==============================] - 0s 4ms/step - loss: 0.3961 - val_loss: 0.2976\n",
      "Epoch 23/250\n",
      "14/14 [==============================] - 0s 3ms/step - loss: 0.3984 - val_loss: 0.2813\n",
      "Epoch 24/250\n",
      "14/14 [==============================] - 0s 4ms/step - loss: 0.3827 - val_loss: 0.2745\n",
      "Epoch 25/250\n",
      "14/14 [==============================] - 0s 3ms/step - loss: 0.3570 - val_loss: 0.2858\n",
      "Epoch 26/250\n",
      "14/14 [==============================] - 0s 4ms/step - loss: 0.3653 - val_loss: 0.2542\n",
      "Epoch 27/250\n",
      "14/14 [==============================] - 0s 4ms/step - loss: 0.3654 - val_loss: 0.2440\n",
      "Epoch 28/250\n",
      "14/14 [==============================] - 0s 4ms/step - loss: 0.3790 - val_loss: 0.2497\n",
      "Epoch 29/250\n",
      "14/14 [==============================] - 0s 3ms/step - loss: 0.3283 - val_loss: 0.2302\n",
      "Epoch 30/250\n",
      "14/14 [==============================] - 0s 3ms/step - loss: 0.3127 - val_loss: 0.2181\n",
      "Epoch 31/250\n",
      "14/14 [==============================] - 0s 3ms/step - loss: 0.3186 - val_loss: 0.2077\n",
      "Epoch 32/250\n",
      "14/14 [==============================] - 0s 4ms/step - loss: 0.3085 - val_loss: 0.1965\n",
      "Epoch 33/250\n",
      "14/14 [==============================] - 0s 3ms/step - loss: 0.2989 - val_loss: 0.1929\n",
      "Epoch 34/250\n",
      "14/14 [==============================] - 0s 4ms/step - loss: 0.2801 - val_loss: 0.1883\n",
      "Epoch 35/250\n",
      "14/14 [==============================] - 0s 4ms/step - loss: 0.3150 - val_loss: 0.1838\n",
      "Epoch 36/250\n",
      "14/14 [==============================] - 0s 3ms/step - loss: 0.2646 - val_loss: 0.1757\n",
      "Epoch 37/250\n",
      "14/14 [==============================] - 0s 3ms/step - loss: 0.2762 - val_loss: 0.1699\n",
      "Epoch 38/250\n",
      "14/14 [==============================] - 0s 3ms/step - loss: 0.2714 - val_loss: 0.1619\n",
      "Epoch 39/250\n",
      "14/14 [==============================] - 0s 3ms/step - loss: 0.2537 - val_loss: 0.1546\n",
      "Epoch 40/250\n",
      "14/14 [==============================] - 0s 4ms/step - loss: 0.2704 - val_loss: 0.1435\n",
      "Epoch 41/250\n",
      "14/14 [==============================] - 0s 4ms/step - loss: 0.2689 - val_loss: 0.1445\n",
      "Epoch 42/250\n",
      "14/14 [==============================] - 0s 6ms/step - loss: 0.2362 - val_loss: 0.1519\n",
      "Epoch 43/250\n",
      "14/14 [==============================] - 0s 4ms/step - loss: 0.2031 - val_loss: 0.1306\n",
      "Epoch 44/250\n",
      "14/14 [==============================] - 0s 4ms/step - loss: 0.1866 - val_loss: 0.1318\n",
      "Epoch 45/250\n",
      "14/14 [==============================] - 0s 4ms/step - loss: 0.2152 - val_loss: 0.1213\n",
      "Epoch 46/250\n",
      "14/14 [==============================] - 0s 3ms/step - loss: 0.2358 - val_loss: 0.1245\n",
      "Epoch 47/250\n",
      "14/14 [==============================] - 0s 3ms/step - loss: 0.1990 - val_loss: 0.1255\n",
      "Epoch 48/250\n",
      "14/14 [==============================] - 0s 3ms/step - loss: 0.1926 - val_loss: 0.1197\n",
      "Epoch 49/250\n",
      "14/14 [==============================] - 0s 3ms/step - loss: 0.1943 - val_loss: 0.1147\n",
      "Epoch 50/250\n",
      "14/14 [==============================] - 0s 4ms/step - loss: 0.2046 - val_loss: 0.1272\n",
      "Epoch 51/250\n",
      "14/14 [==============================] - 0s 3ms/step - loss: 0.1964 - val_loss: 0.1028\n",
      "Epoch 52/250\n",
      "14/14 [==============================] - 0s 4ms/step - loss: 0.1789 - val_loss: 0.1639\n",
      "Epoch 53/250\n",
      "14/14 [==============================] - 0s 4ms/step - loss: 0.1928 - val_loss: 0.1202\n",
      "Epoch 54/250\n",
      "14/14 [==============================] - 0s 3ms/step - loss: 0.1695 - val_loss: 0.0992\n",
      "Epoch 55/250\n",
      "14/14 [==============================] - 0s 3ms/step - loss: 0.1709 - val_loss: 0.1055\n",
      "Epoch 56/250\n",
      "14/14 [==============================] - 0s 3ms/step - loss: 0.1753 - val_loss: 0.1217\n",
      "Epoch 57/250\n",
      "14/14 [==============================] - 0s 3ms/step - loss: 0.1736 - val_loss: 0.0904\n",
      "Epoch 58/250\n",
      "14/14 [==============================] - 0s 3ms/step - loss: 0.1798 - val_loss: 0.0931\n",
      "Epoch 59/250\n",
      "14/14 [==============================] - 0s 3ms/step - loss: 0.1691 - val_loss: 0.0909\n",
      "Epoch 60/250\n",
      "14/14 [==============================] - 0s 3ms/step - loss: 0.1439 - val_loss: 0.0934\n",
      "Epoch 61/250\n",
      "14/14 [==============================] - 0s 3ms/step - loss: 0.1803 - val_loss: 0.0904\n",
      "Epoch 62/250\n",
      "14/14 [==============================] - 0s 3ms/step - loss: 0.1752 - val_loss: 0.1027\n",
      "Epoch 63/250\n",
      "14/14 [==============================] - 0s 3ms/step - loss: 0.1638 - val_loss: 0.0854\n",
      "Epoch 64/250\n",
      "14/14 [==============================] - 0s 3ms/step - loss: 0.1604 - val_loss: 0.0869\n",
      "Epoch 65/250\n",
      "14/14 [==============================] - 0s 3ms/step - loss: 0.1376 - val_loss: 0.0933\n",
      "Epoch 66/250\n",
      "14/14 [==============================] - 0s 3ms/step - loss: 0.1515 - val_loss: 0.0834\n",
      "Epoch 67/250\n",
      "14/14 [==============================] - 0s 3ms/step - loss: 0.1402 - val_loss: 0.0823\n",
      "Epoch 68/250\n",
      "14/14 [==============================] - 0s 3ms/step - loss: 0.1788 - val_loss: 0.0829\n",
      "Epoch 69/250\n",
      "14/14 [==============================] - 0s 3ms/step - loss: 0.1742 - val_loss: 0.0890\n",
      "Epoch 70/250\n",
      "14/14 [==============================] - 0s 4ms/step - loss: 0.1548 - val_loss: 0.1054\n",
      "Epoch 71/250\n",
      "14/14 [==============================] - 0s 4ms/step - loss: 0.1494 - val_loss: 0.0953\n",
      "Epoch 72/250\n",
      "14/14 [==============================] - 0s 4ms/step - loss: 0.1346 - val_loss: 0.0775\n",
      "Epoch 73/250\n",
      "14/14 [==============================] - 0s 4ms/step - loss: 0.1374 - val_loss: 0.0900\n",
      "Epoch 74/250\n",
      "14/14 [==============================] - 0s 4ms/step - loss: 0.1577 - val_loss: 0.0847\n",
      "Epoch 75/250\n",
      "14/14 [==============================] - 0s 3ms/step - loss: 0.1648 - val_loss: 0.0891\n",
      "Epoch 76/250\n",
      "14/14 [==============================] - 0s 3ms/step - loss: 0.1509 - val_loss: 0.0748\n",
      "Epoch 77/250\n",
      "14/14 [==============================] - 0s 3ms/step - loss: 0.1254 - val_loss: 0.0858\n",
      "Epoch 78/250\n",
      "14/14 [==============================] - 0s 3ms/step - loss: 0.1369 - val_loss: 0.0855\n",
      "Epoch 79/250\n",
      "14/14 [==============================] - 0s 3ms/step - loss: 0.1240 - val_loss: 0.0795\n",
      "Epoch 80/250\n",
      "14/14 [==============================] - 0s 3ms/step - loss: 0.1390 - val_loss: 0.0950\n",
      "Epoch 81/250\n",
      "14/14 [==============================] - 0s 3ms/step - loss: 0.1241 - val_loss: 0.0950\n",
      "Epoch 82/250\n",
      "14/14 [==============================] - 0s 3ms/step - loss: 0.1501 - val_loss: 0.0685\n"
     ]
    },
    {
     "name": "stdout",
     "output_type": "stream",
     "text": [
      "Epoch 83/250\n",
      "14/14 [==============================] - 0s 3ms/step - loss: 0.1256 - val_loss: 0.0786\n",
      "Epoch 84/250\n",
      "14/14 [==============================] - 0s 3ms/step - loss: 0.1204 - val_loss: 0.0921\n",
      "Epoch 85/250\n",
      "14/14 [==============================] - 0s 3ms/step - loss: 0.1426 - val_loss: 0.0710\n",
      "Epoch 86/250\n",
      "14/14 [==============================] - 0s 3ms/step - loss: 0.1264 - val_loss: 0.0690\n",
      "Epoch 87/250\n",
      "14/14 [==============================] - 0s 3ms/step - loss: 0.1332 - val_loss: 0.0673\n",
      "Epoch 88/250\n",
      "14/14 [==============================] - 0s 3ms/step - loss: 0.1297 - val_loss: 0.0811\n",
      "Epoch 89/250\n",
      "14/14 [==============================] - 0s 3ms/step - loss: 0.1491 - val_loss: 0.0737\n",
      "Epoch 90/250\n",
      "14/14 [==============================] - 0s 3ms/step - loss: 0.1482 - val_loss: 0.1202\n",
      "Epoch 91/250\n",
      "14/14 [==============================] - 0s 3ms/step - loss: 0.1585 - val_loss: 0.0851\n",
      "Epoch 92/250\n",
      "14/14 [==============================] - 0s 4ms/step - loss: 0.1224 - val_loss: 0.0734\n",
      "Epoch 93/250\n",
      "14/14 [==============================] - 0s 3ms/step - loss: 0.1486 - val_loss: 0.0723\n",
      "Epoch 94/250\n",
      "14/14 [==============================] - 0s 4ms/step - loss: 0.1315 - val_loss: 0.0843\n",
      "Epoch 95/250\n",
      "14/14 [==============================] - 0s 4ms/step - loss: 0.1319 - val_loss: 0.0665\n",
      "Epoch 96/250\n",
      "14/14 [==============================] - 0s 3ms/step - loss: 0.1167 - val_loss: 0.0728\n",
      "Epoch 97/250\n",
      "14/14 [==============================] - 0s 3ms/step - loss: 0.1139 - val_loss: 0.0818\n",
      "Epoch 98/250\n",
      "14/14 [==============================] - 0s 3ms/step - loss: 0.1094 - val_loss: 0.0773\n",
      "Epoch 99/250\n",
      "14/14 [==============================] - 0s 3ms/step - loss: 0.1165 - val_loss: 0.0829\n",
      "Epoch 100/250\n",
      "14/14 [==============================] - 0s 3ms/step - loss: 0.1064 - val_loss: 0.0666\n",
      "Epoch 101/250\n",
      "14/14 [==============================] - 0s 3ms/step - loss: 0.1215 - val_loss: 0.0662\n",
      "Epoch 102/250\n",
      "14/14 [==============================] - 0s 3ms/step - loss: 0.1063 - val_loss: 0.0811\n",
      "Epoch 103/250\n",
      "14/14 [==============================] - 0s 3ms/step - loss: 0.1039 - val_loss: 0.0685\n",
      "Epoch 104/250\n",
      "14/14 [==============================] - 0s 3ms/step - loss: 0.1140 - val_loss: 0.0600\n",
      "Epoch 105/250\n",
      "14/14 [==============================] - 0s 3ms/step - loss: 0.1188 - val_loss: 0.0680\n",
      "Epoch 106/250\n",
      "14/14 [==============================] - 0s 3ms/step - loss: 0.1034 - val_loss: 0.1040\n",
      "Epoch 107/250\n",
      "14/14 [==============================] - 0s 3ms/step - loss: 0.1198 - val_loss: 0.0838\n",
      "Epoch 108/250\n",
      "14/14 [==============================] - 0s 3ms/step - loss: 0.1521 - val_loss: 0.0621\n",
      "Epoch 109/250\n",
      "14/14 [==============================] - 0s 3ms/step - loss: 0.1280 - val_loss: 0.0923\n",
      "Epoch 110/250\n",
      "14/14 [==============================] - 0s 3ms/step - loss: 0.1068 - val_loss: 0.0742\n",
      "Epoch 111/250\n",
      "14/14 [==============================] - 0s 3ms/step - loss: 0.1132 - val_loss: 0.0598\n",
      "Epoch 112/250\n",
      "14/14 [==============================] - 0s 3ms/step - loss: 0.1197 - val_loss: 0.0888\n",
      "Epoch 113/250\n",
      "14/14 [==============================] - 0s 3ms/step - loss: 0.0881 - val_loss: 0.0601\n",
      "Epoch 114/250\n",
      "14/14 [==============================] - 0s 3ms/step - loss: 0.1036 - val_loss: 0.0631\n",
      "Epoch 115/250\n",
      "14/14 [==============================] - 0s 3ms/step - loss: 0.1102 - val_loss: 0.0587\n",
      "Epoch 116/250\n",
      "14/14 [==============================] - 0s 3ms/step - loss: 0.0846 - val_loss: 0.0937\n",
      "Epoch 117/250\n",
      "14/14 [==============================] - 0s 3ms/step - loss: 0.1078 - val_loss: 0.0800\n",
      "Epoch 118/250\n",
      "14/14 [==============================] - 0s 3ms/step - loss: 0.1332 - val_loss: 0.0532\n",
      "Epoch 119/250\n",
      "14/14 [==============================] - 0s 3ms/step - loss: 0.1025 - val_loss: 0.0717\n",
      "Epoch 120/250\n",
      "14/14 [==============================] - 0s 3ms/step - loss: 0.1446 - val_loss: 0.0765\n",
      "Epoch 121/250\n",
      "14/14 [==============================] - 0s 3ms/step - loss: 0.1296 - val_loss: 0.0718\n",
      "Epoch 122/250\n",
      "14/14 [==============================] - 0s 3ms/step - loss: 0.0859 - val_loss: 0.0716\n",
      "Epoch 123/250\n",
      "14/14 [==============================] - 0s 3ms/step - loss: 0.1101 - val_loss: 0.0630\n",
      "Epoch 124/250\n",
      "14/14 [==============================] - 0s 3ms/step - loss: 0.1022 - val_loss: 0.0696\n",
      "Epoch 125/250\n",
      "14/14 [==============================] - 0s 3ms/step - loss: 0.1218 - val_loss: 0.0741\n",
      "Epoch 126/250\n",
      "14/14 [==============================] - 0s 3ms/step - loss: 0.1102 - val_loss: 0.0825\n",
      "Epoch 127/250\n",
      "14/14 [==============================] - 0s 3ms/step - loss: 0.1030 - val_loss: 0.0825\n",
      "Epoch 128/250\n",
      "14/14 [==============================] - 0s 3ms/step - loss: 0.1169 - val_loss: 0.0668\n",
      "Epoch 129/250\n",
      "14/14 [==============================] - 0s 3ms/step - loss: 0.1307 - val_loss: 0.0641\n",
      "Epoch 130/250\n",
      "14/14 [==============================] - 0s 3ms/step - loss: 0.1115 - val_loss: 0.0802\n",
      "Epoch 131/250\n",
      "14/14 [==============================] - 0s 4ms/step - loss: 0.1161 - val_loss: 0.0696\n",
      "Epoch 132/250\n",
      "14/14 [==============================] - 0s 3ms/step - loss: 0.0936 - val_loss: 0.0781\n",
      "Epoch 133/250\n",
      "14/14 [==============================] - 0s 3ms/step - loss: 0.0913 - val_loss: 0.0766\n",
      "Epoch 134/250\n",
      "14/14 [==============================] - 0s 3ms/step - loss: 0.0891 - val_loss: 0.0836\n",
      "Epoch 135/250\n",
      "14/14 [==============================] - 0s 3ms/step - loss: 0.1215 - val_loss: 0.0642\n",
      "Epoch 136/250\n",
      "14/14 [==============================] - 0s 3ms/step - loss: 0.0863 - val_loss: 0.0632\n",
      "Epoch 137/250\n",
      "14/14 [==============================] - 0s 3ms/step - loss: 0.1073 - val_loss: 0.0832\n",
      "Epoch 138/250\n",
      "14/14 [==============================] - 0s 3ms/step - loss: 0.0974 - val_loss: 0.0974\n",
      "Epoch 139/250\n",
      "14/14 [==============================] - 0s 4ms/step - loss: 0.0809 - val_loss: 0.0629\n",
      "Epoch 140/250\n",
      "14/14 [==============================] - 0s 4ms/step - loss: 0.0861 - val_loss: 0.0914\n",
      "Epoch 141/250\n",
      "14/14 [==============================] - 0s 3ms/step - loss: 0.0928 - val_loss: 0.0639\n",
      "Epoch 142/250\n",
      "14/14 [==============================] - 0s 3ms/step - loss: 0.1131 - val_loss: 0.0600\n",
      "Epoch 143/250\n",
      "14/14 [==============================] - 0s 3ms/step - loss: 0.0887 - val_loss: 0.0698\n",
      "Epoch 00143: early stopping\n"
     ]
    },
    {
     "data": {
      "text/plain": [
       "<tensorflow.python.keras.callbacks.History at 0x1f071e29f40>"
      ]
     },
     "execution_count": 22,
     "metadata": {},
     "output_type": "execute_result"
    }
   ],
   "source": [
    "model.fit(x=X_train,y=y_train,epochs=250,verbose=1,validation_data=(X_test,y_test),callbacks=[early_stop])"
   ]
  },
  {
   "cell_type": "code",
   "execution_count": 23,
   "id": "22d3fda0",
   "metadata": {},
   "outputs": [],
   "source": [
    "losses=pd.DataFrame(model.history.history)"
   ]
  },
  {
   "cell_type": "code",
   "execution_count": 24,
   "id": "2612dc32",
   "metadata": {},
   "outputs": [
    {
     "data": {
      "text/plain": [
       "<AxesSubplot:>"
      ]
     },
     "execution_count": 24,
     "metadata": {},
     "output_type": "execute_result"
    },
    {
     "data": {
      "image/png": "[encoded data removed]",
      "text/plain": [
       "<Figure size 432x288 with 1 Axes>"
      ]
     },
     "metadata": {
      "needs_background": "light"
     },
     "output_type": "display_data"
    }
   ],
   "source": [
    "losses.plot()"
   ]
  },
  {
   "cell_type": "markdown",
   "id": "4ca676bc",
   "metadata": {},
   "source": [
    " ## In the above plot is depicted the val_loss is flattened and early stoping revent further epochs that will drive to overfitting."
   ]
  },
  {
   "cell_type": "code",
   "execution_count": 25,
   "id": "6643da0c",
   "metadata": {},
   "outputs": [],
   "source": [
    "predictions=model.predict_classes(X_test)"
   ]
  },
  {
   "cell_type": "code",
   "execution_count": 26,
   "id": "e8eddb44",
   "metadata": {},
   "outputs": [],
   "source": [
    "from sklearn.metrics import classification_report,confusion_matrix"
   ]
  },
  {
   "cell_type": "code",
   "execution_count": 27,
   "id": "13bf755e",
   "metadata": {},
   "outputs": [
    {
     "name": "stdout",
     "output_type": "stream",
     "text": [
      "[[56  3]\n",
      " [ 0 84]]\n"
     ]
    }
   ],
   "source": [
    "print(confusion_matrix(y_test,predictions))"
   ]
  },
  {
   "cell_type": "code",
   "execution_count": 43,
   "id": "b665477b",
   "metadata": {},
   "outputs": [
    {
     "data": {
      "text/plain": [
       "Text(33.0, 0.5, 'Actual class')"
      ]
     },
     "execution_count": 43,
     "metadata": {},
     "output_type": "execute_result"
    },
    {
     "data": {
      "image/png": "[encoded data removed]",
      "text/plain": [
       "<Figure size 432x288 with 2 Axes>"
      ]
     },
     "metadata": {
      "needs_background": "light"
     },
     "output_type": "display_data"
    }
   ],
   "source": [
    "plt.title('Confusion Matrix 0 for malignant, 1 for benign')\n",
    "sns.heatmap(confusion_matrix(y_test,predictions),annot=True)\n",
    "plt.xlabel('Predicted class')\n",
    "plt.ylabel('Actual class')"
   ]
  },
  {
   "cell_type": "code",
   "execution_count": 28,
   "id": "28e6ee45",
   "metadata": {},
   "outputs": [
    {
     "name": "stdout",
     "output_type": "stream",
     "text": [
      "              precision    recall  f1-score   support\n",
      "\n",
      "           0       1.00      0.95      0.97        59\n",
      "           1       0.97      1.00      0.98        84\n",
      "\n",
      "    accuracy                           0.98       143\n",
      "   macro avg       0.98      0.97      0.98       143\n",
      "weighted avg       0.98      0.98      0.98       143\n",
      "\n"
     ]
    }
   ],
   "source": [
    "print(classification_report(y_test,predictions))"
   ]
  },
  {
   "cell_type": "markdown",
   "id": "5dbedb1f",
   "metadata": {},
   "source": [
    "## The model has very good performance it detects 95% cases of malignant tumors further effords are needed to increase this ratio."
   ]
  },
  {
   "cell_type": "code",
   "execution_count": null,
   "id": "7da303c6",
   "metadata": {},
   "outputs": [],
   "source": []
  },
  {
   "cell_type": "code",
   "execution_count": null,
   "id": "1d289e0b",
   "metadata": {},
   "outputs": [],
   "source": []
  }
 ],
 "metadata": {
  "kernelspec": {
   "display_name": "Python 3 (ipykernel)",
   "language": "python",
   "name": "python3"
  },
  "language_info": {
   "codemirror_mode": {
    "name": "ipython",
    "version": 3
   },
   "file_extension": ".py",
   "mimetype": "text/x-python",
   "name": "python",
   "nbconvert_exporter": "python",
   "pygments_lexer": "ipython3",
   "version": "3.9.7"
  }
 },
 "nbformat": 4,
 "nbformat_minor": 5
}
